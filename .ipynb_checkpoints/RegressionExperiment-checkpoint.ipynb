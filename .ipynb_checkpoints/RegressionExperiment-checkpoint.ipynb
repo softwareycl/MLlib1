{
 "cells": [
  {
   "cell_type": "code",
   "execution_count": 3,
   "metadata": {},
   "outputs": [
    {
     "data": {
      "image/png": "[encoded data removed]",
      "text/plain": [
       "<matplotlib.figure.Figure at 0x1bb0de8898>"
      ]
     },
     "metadata": {},
     "output_type": "display_data"
    }
   ],
   "source": [
    "# -*- coding: utf-8 -*-\n",
    "from sklearn.datasets import load_svmlight_file\n",
    "import numpy as np\n",
    "from sklearn.model_selection import train_test_split\n",
    "import matplotlib.pyplot as plt\n",
    "\n",
    "#获取数据\n",
    "def get_data():\n",
    "    data = load_svmlight_file('G:\\MLcode\\data\\housing_scale.txt')\n",
    "    return data[0], data[1]\n",
    "X, y = get_data()\n",
    "\n",
    "#划分数据\n",
    "X_train, X_test, y_train, y_test = train_test_split(X, y, test_size=0.33, random_state=42)\n",
    "y_train = y_train.reshape(y_train.shape[0], 1)\n",
    "y_test = y_test.reshape(y_test.shape[0], 1)\n",
    "\n",
    "#随机初始化模型参数\n",
    "W = np.random.rand(13, 1)\n",
    "temp = W\n",
    "\n",
    "#损失函数L = 1/(2n)*∑(Y - h(w))^2\n",
    "L_train = []\n",
    "L_test = []\n",
    "L = 0.5 * (np.dot(y_train.transpose(), y_train) - 2 * np.dot(W.transpose() * X_train.T, y_train) + np.dot(W.transpose() * X_train.T * X_train, W)) / X_train.shape[0]\n",
    "L_train.append(L[0,0])\n",
    "L = 0.5 * (np.dot(y_test.transpose(), y_test) - 2 * np.dot(W.transpose() * X_test.T, y_test) + np.dot(W.transpose() * X_test.T * X_test, W)) / X_test.shape[0]\n",
    "L_test.append(L[0,0])\n",
    "\n",
    "#学习率\n",
    "alpha = 0.001\n",
    "\n",
    "#迭代求最优参数\n",
    "for i in range(1000):\n",
    "    #求得所有样本对Loss函数的梯度\n",
    "    G = -X_train.T * y_train + X_train.T * X_train * W\n",
    "    D = -G\n",
    "    #更新模型参数\n",
    "    temp = temp + alpha * D\n",
    "    L1 = 0.5 * (np.dot(y_train.transpose(), y_train) - 2 * np.dot(W.transpose() * X_train.T, y_train) + np.dot(W.transpose() * X_train.T * X_train, W)) / X_train.shape[0]\n",
    "    L2 = 0.5 * (np.dot(y_train.transpose(), y_train) - 2 * np.dot(temp.transpose() * X_train.T, y_train) + np.dot(temp.transpose() * X_train.T * X_train, temp)) / X_train.shape[0]\n",
    "    L3 = 0.5 * (np.dot(y_test.transpose(), y_test) - 2 * np.dot(temp.transpose() * X_test.T, y_test) + np.dot(temp.transpose() * X_test.T * X_test, temp)) / X_test.shape[0]\n",
    "    #判断是否超过极小值\n",
    "    if L1 > L2: \n",
    "        W = temp\n",
    "        L_train.append(L2[0,0])\n",
    "        L_test.append(L3[0,0])\n",
    "    else:\n",
    "        break\n",
    "#绘图\n",
    "plt.xlabel('Iterations')\n",
    "plt.ylabel('Loss')\n",
    "a, = plt.plot(L_train, color = 'blue')\n",
    "b, = plt.plot(L_test, color = 'red')\n",
    "plt.legend(handles = [a, b], labels = ['Train', 'Test'], loc = 'best')\n",
    "plt.show()\n"
   ]
  },
  {
   "cell_type": "code",
   "execution_count": null,
   "metadata": {
    "collapsed": true
   },
   "outputs": [],
   "source": []
  }
 ],
 "metadata": {
  "kernelspec": {
   "display_name": "Python 3",
   "language": "python",
   "name": "python3"
  },
  "language_info": {
   "codemirror_mode": {
    "name": "ipython",
    "version": 3
   },
   "file_extension": ".py",
   "mimetype": "text/x-python",
   "name": "python",
   "nbconvert_exporter": "python",
   "pygments_lexer": "ipython3",
   "version": "3.6.3"
  }
 },
 "nbformat": 4,
 "nbformat_minor": 2
}
