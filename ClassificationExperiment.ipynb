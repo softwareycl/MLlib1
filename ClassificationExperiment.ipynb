{
 "cells": [
  {
   "cell_type": "code",
   "execution_count": 1,
   "metadata": {},
   "outputs": [
    {
     "data": {
      "image/png": "[encoded data removed]",
      "text/plain": [
       "<matplotlib.figure.Figure at 0x8714727cc0>"
      ]
     },
     "metadata": {},
     "output_type": "display_data"
    },
    {
     "data": {
      "image/png": "[encoded data removed]",
      "text/plain": [
       "<matplotlib.figure.Figure at 0x87151d1860>"
      ]
     },
     "metadata": {},
     "output_type": "display_data"
    }
   ],
   "source": [
    "# -*- coding: utf-8 -*-\n",
    "\n",
    "from sklearn.datasets import load_svmlight_file\n",
    "import numpy as np\n",
    "from sklearn.model_selection import train_test_split\n",
    "import matplotlib.pyplot as plt\n",
    "\n",
    "#获取数据\n",
    "def get_data():\n",
    "    data = load_svmlight_file('G:\\MLcode\\data\\\\australian_scale.txt')\n",
    "    return data[0], data[1]\n",
    "X, y = get_data()\n",
    "\n",
    "#划分数据\n",
    "X_train, X_test, y_train, y_test = train_test_split(X, y, test_size=0.33, random_state=42)\n",
    "y_train = y_train.reshape(y_train.shape[0], 1)\n",
    "y_test = y_test.reshape(y_test.shape[0], 1)\n",
    "\n",
    "#随机初始化模型参数\n",
    "W = np.random.rand(14, 1)\n",
    "b = 0\n",
    "C = 0.1\n",
    "temp_W = W\n",
    "temp_b = b\n",
    "\n",
    "#损失函数L = 0.5*||W||^2 + C∑max(0, 1 - yi(w.T*xi + b))\n",
    "L_train = []\n",
    "L_test = []\n",
    "acc = []\n",
    "count = 0\n",
    "L = 0.5 * np.dot(W.transpose(), W)\n",
    "for i in range(X_train.shape[0]):\n",
    "    if y_train[i, :] * (X_train[i, :] * W + b) < 1:\n",
    "        L += C * (1 - y_train[i, :] * (X_train[i, :] * W + b))\n",
    "L_train.append(L[0, 0]/X_train.shape[0])\n",
    "L = 0.5 * np.dot(W.transpose(), W)\n",
    "for i in range(X_test.shape[0]):\n",
    "    if y_test[i, :] * (X_test[i, :] * W + b) < 1:\n",
    "        L += C * (1 - y_test[i, :] * (X_test[i, :] * W + b))\n",
    "L_test.append(L[0, 0]/X_test.shape[0])\n",
    "mat_train = y_train * (X_train * W + b)\n",
    "for i in range(mat_train.shape[0]):\n",
    "    if mat_train[i, 0] >0.08:\n",
    "        count += 1\n",
    "acc.append(count/X_train.shape[0])\n",
    "\n",
    "#学习率\n",
    "alpha = 0.001\n",
    "\n",
    "#迭代求最优参数\n",
    "for i in range(1000):\n",
    "    count = 0\n",
    "    #求得所有样本对Loss函数的梯度\n",
    "    G_W = W\n",
    "    G_b = 0\n",
    "    for j in range(X_train.shape[0]):\n",
    "        if y_train[j, :] * (X_train[j, :] * W + b) < 1:\n",
    "            w = (X_train[j, :].T * y_train[j, :]).reshape(14, 1)\n",
    "            G_W = G_W - C * w\n",
    "            G_b = G_b - C * y_train[j, 0]\n",
    "\n",
    "    #取梯度的负方向\n",
    "    D_W = -G_W\n",
    "    D_b = -G_b\n",
    "    #更新模型参数\n",
    "    temp_W = temp_W + alpha * D_W\n",
    "    temp_b = temp_b + alpha * D_b\n",
    "    L1 = 0.5 * np.dot(W.transpose(), W)\n",
    "    for k in range(X_train.shape[0]):\n",
    "        if y_train[k, :] * (X_train[k, :] * W + b) < 1:\n",
    "            L1 += C * (1 - y_train[k, :] * (X_train[k, :] * W + b))\n",
    "\n",
    "    L2 = 0.5 * np.dot(temp_W.transpose(), temp_W)\n",
    "    for k in range(X_train.shape[0]):\n",
    "        if y_train[k, :] * (X_train[k, :] * temp_W + temp_b) < 1:\n",
    "            L2 += C * (1 - y_train[k, :] * (X_train[k, :] * temp_W + temp_b))\n",
    "\n",
    "    L3 = 0.5 * np.dot(temp_W.transpose(), temp_W)\n",
    "    for k in range(X_test.shape[0]):\n",
    "        if y_test[k, :] * (X_test[k, :] * temp_W + temp_b) < 1:\n",
    "            L3 += C * (1 - y_test[k, :] * (X_test[k, :] * temp_W + temp_b))\n",
    "    if L1 > L2:\n",
    "        W = temp_W\n",
    "        b = temp_b\n",
    "        L_train.append(L2[0,0]/X_train.shape[0])\n",
    "        L_test.append(L3[0,0]/X_test.shape[0])\n",
    "        mat_train = y_train * (X_train * W + b)\n",
    "        for k in range(mat_train.shape[0]):\n",
    "            if mat_train[k, 0] > 0.08:\n",
    "                count += 1\n",
    "        acc.append(count/X_train.shape[0])\n",
    "    else:\n",
    "        break    \n",
    "plt.xlabel('Iterations')\n",
    "plt.ylabel('Loss')\n",
    "a, = plt.plot(L_train, color = 'blue')\n",
    "b, = plt.plot(L_test, color = 'red')\n",
    "plt.legend(handles = [a, b], labels = ['Train', 'Test'], loc = 'best')\n",
    "plt.show()\n",
    "plt.figure()\n",
    "plt.xlabel('Iterations')\n",
    "plt.ylabel('Accuracy rate')\n",
    "plt.plot(acc, color = 'blue')\n",
    "plt.show()\n"
   ]
  },
  {
   "cell_type": "code",
   "execution_count": null,
   "metadata": {
    "collapsed": true
   },
   "outputs": [],
   "source": []
  },
  {
   "cell_type": "code",
   "execution_count": null,
   "metadata": {
    "collapsed": true
   },
   "outputs": [],
   "source": []
  }
 ],
 "metadata": {
  "kernelspec": {
   "display_name": "Python 3",
   "language": "python",
   "name": "python3"
  },
  "language_info": {
   "codemirror_mode": {
    "name": "ipython",
    "version": 3
   },
   "file_extension": ".py",
   "mimetype": "text/x-python",
   "name": "python",
   "nbconvert_exporter": "python",
   "pygments_lexer": "ipython3",
   "version": "3.6.3"
  }
 },
 "nbformat": 4,
 "nbformat_minor": 2
}
